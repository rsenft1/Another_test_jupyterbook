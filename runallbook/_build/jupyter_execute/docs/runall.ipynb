{
 "cells": [
  {
   "cell_type": "markdown",
   "id": "f26d9494",
   "metadata": {},
   "source": [
    "(content:code-outputs)=\n",
    "\n",
    "# Formatting code outputs\n",
    "\n",
    "The formatting of code outputs is highly configurable.\n",
    "Below we give examples of how to format particular outputs and even insert outputs into other locations of the document.\n",
    "\n",
    "The [MyST cheat sheet](myst_cheatsheet) provides a [list of `code-cell` tags available](myst_cheatsheet:code-cell:tags)\n",
    "\n",
    ":::{seealso}\n",
    "The [MyST-NB documentation](myst-nb:use/format/cutomise), for how to fully customize the output renderer.\n",
    ":::\n",
    "\n",
    "(content:code-outputs:library-outputs)=\n",
    "## Library output formatting\n",
    "\n",
    "Many libraries support their own HTML output formatting, and this generally carries over to Jupyter Book outputs as well.\n",
    "\n",
    "For example, the following cell uses Pandas to format cells based on their values:"
   ]
  },
  {
   "cell_type": "code",
   "execution_count": 1,
   "id": "f6f92759",
   "metadata": {
    "tags": [
     "hide-input"
    ]
   },
   "outputs": [
    {
     "data": {
      "text/html": [
       "<style type=\"text/css\">\n",
       "#T_68f57_row0_col0, #T_68f57_row0_col1, #T_68f57_row0_col2, #T_68f57_row1_col0, #T_68f57_row1_col3, #T_68f57_row1_col4, #T_68f57_row2_col0, #T_68f57_row2_col2, #T_68f57_row2_col3, #T_68f57_row3_col0, #T_68f57_row3_col1, #T_68f57_row3_col2, #T_68f57_row3_col3, #T_68f57_row3_col4, #T_68f57_row4_col0, #T_68f57_row4_col1, #T_68f57_row4_col2, #T_68f57_row4_col3, #T_68f57_row4_col4, #T_68f57_row5_col0, #T_68f57_row5_col2, #T_68f57_row5_col3, #T_68f57_row6_col0, #T_68f57_row6_col1, #T_68f57_row6_col4, #T_68f57_row7_col0, #T_68f57_row7_col1, #T_68f57_row7_col2, #T_68f57_row7_col4, #T_68f57_row8_col0, #T_68f57_row9_col2, #T_68f57_row9_col4 {\n",
       "  color: black;\n",
       "}\n",
       "#T_68f57_row0_col3, #T_68f57_row0_col4, #T_68f57_row1_col1, #T_68f57_row1_col2, #T_68f57_row2_col1, #T_68f57_row5_col1, #T_68f57_row5_col4, #T_68f57_row6_col3, #T_68f57_row7_col3, #T_68f57_row8_col2, #T_68f57_row8_col4, #T_68f57_row9_col1, #T_68f57_row9_col3 {\n",
       "  color: red;\n",
       "}\n",
       "#T_68f57_row2_col4, #T_68f57_row6_col2, #T_68f57_row8_col1, #T_68f57_row8_col3, #T_68f57_row9_col0 {\n",
       "  color: black;\n",
       "  background-color: yellow;\n",
       "}\n",
       "</style>\n",
       "<table id=\"T_68f57_\" style=\"font-size: 10px\">\n",
       "  <thead>\n",
       "    <tr>\n",
       "      <th class=\"blank level0\" >&nbsp;</th>\n",
       "      <th class=\"col_heading level0 col0\" >A</th>\n",
       "      <th class=\"col_heading level0 col1\" >B</th>\n",
       "      <th class=\"col_heading level0 col2\" >C</th>\n",
       "      <th class=\"col_heading level0 col3\" >D</th>\n",
       "      <th class=\"col_heading level0 col4\" >E</th>\n",
       "    </tr>\n",
       "  </thead>\n",
       "  <tbody>\n",
       "    <tr>\n",
       "      <th id=\"T_68f57_level0_row0\" class=\"row_heading level0 row0\" >0</th>\n",
       "      <td id=\"T_68f57_row0_col0\" class=\"data row0 col0\" >1.000000</td>\n",
       "      <td id=\"T_68f57_row0_col1\" class=\"data row0 col1\" >1.329212</td>\n",
       "      <td id=\"T_68f57_row0_col2\" class=\"data row0 col2\" >nan</td>\n",
       "      <td id=\"T_68f57_row0_col3\" class=\"data row0 col3\" >-0.316280</td>\n",
       "      <td id=\"T_68f57_row0_col4\" class=\"data row0 col4\" >-0.990810</td>\n",
       "    </tr>\n",
       "    <tr>\n",
       "      <th id=\"T_68f57_level0_row1\" class=\"row_heading level0 row1\" >1</th>\n",
       "      <td id=\"T_68f57_row1_col0\" class=\"data row1 col0\" >2.000000</td>\n",
       "      <td id=\"T_68f57_row1_col1\" class=\"data row1 col1\" >-1.070816</td>\n",
       "      <td id=\"T_68f57_row1_col2\" class=\"data row1 col2\" >-1.438713</td>\n",
       "      <td id=\"T_68f57_row1_col3\" class=\"data row1 col3\" >0.564417</td>\n",
       "      <td id=\"T_68f57_row1_col4\" class=\"data row1 col4\" >0.295722</td>\n",
       "    </tr>\n",
       "    <tr>\n",
       "      <th id=\"T_68f57_level0_row2\" class=\"row_heading level0 row2\" >2</th>\n",
       "      <td id=\"T_68f57_row2_col0\" class=\"data row2 col0\" >3.000000</td>\n",
       "      <td id=\"T_68f57_row2_col1\" class=\"data row2 col1\" >-1.626404</td>\n",
       "      <td id=\"T_68f57_row2_col2\" class=\"data row2 col2\" >0.219565</td>\n",
       "      <td id=\"T_68f57_row2_col3\" class=\"data row2 col3\" >0.678805</td>\n",
       "      <td id=\"T_68f57_row2_col4\" class=\"data row2 col4\" >1.889273</td>\n",
       "    </tr>\n",
       "    <tr>\n",
       "      <th id=\"T_68f57_level0_row3\" class=\"row_heading level0 row3\" >3</th>\n",
       "      <td id=\"T_68f57_row3_col0\" class=\"data row3 col0\" >4.000000</td>\n",
       "      <td id=\"T_68f57_row3_col1\" class=\"data row3 col1\" >0.961538</td>\n",
       "      <td id=\"T_68f57_row3_col2\" class=\"data row3 col2\" >0.104011</td>\n",
       "      <td id=\"T_68f57_row3_col3\" class=\"data row3 col3\" >nan</td>\n",
       "      <td id=\"T_68f57_row3_col4\" class=\"data row3 col4\" >0.850229</td>\n",
       "    </tr>\n",
       "    <tr>\n",
       "      <th id=\"T_68f57_level0_row4\" class=\"row_heading level0 row4\" >4</th>\n",
       "      <td id=\"T_68f57_row4_col0\" class=\"data row4 col0\" >5.000000</td>\n",
       "      <td id=\"T_68f57_row4_col1\" class=\"data row4 col1\" >1.453425</td>\n",
       "      <td id=\"T_68f57_row4_col2\" class=\"data row4 col2\" >1.057737</td>\n",
       "      <td id=\"T_68f57_row4_col3\" class=\"data row4 col3\" >0.165562</td>\n",
       "      <td id=\"T_68f57_row4_col4\" class=\"data row4 col4\" >0.515018</td>\n",
       "    </tr>\n",
       "    <tr>\n",
       "      <th id=\"T_68f57_level0_row5\" class=\"row_heading level0 row5\" >5</th>\n",
       "      <td id=\"T_68f57_row5_col0\" class=\"data row5 col0\" >6.000000</td>\n",
       "      <td id=\"T_68f57_row5_col1\" class=\"data row5 col1\" >-1.336936</td>\n",
       "      <td id=\"T_68f57_row5_col2\" class=\"data row5 col2\" >0.562861</td>\n",
       "      <td id=\"T_68f57_row5_col3\" class=\"data row5 col3\" >1.392855</td>\n",
       "      <td id=\"T_68f57_row5_col4\" class=\"data row5 col4\" >-0.063328</td>\n",
       "    </tr>\n",
       "    <tr>\n",
       "      <th id=\"T_68f57_level0_row6\" class=\"row_heading level0 row6\" >6</th>\n",
       "      <td id=\"T_68f57_row6_col0\" class=\"data row6 col0\" >7.000000</td>\n",
       "      <td id=\"T_68f57_row6_col1\" class=\"data row6 col1\" >0.121668</td>\n",
       "      <td id=\"T_68f57_row6_col2\" class=\"data row6 col2\" >1.207603</td>\n",
       "      <td id=\"T_68f57_row6_col3\" class=\"data row6 col3\" >-0.002040</td>\n",
       "      <td id=\"T_68f57_row6_col4\" class=\"data row6 col4\" >1.627796</td>\n",
       "    </tr>\n",
       "    <tr>\n",
       "      <th id=\"T_68f57_level0_row7\" class=\"row_heading level0 row7\" >7</th>\n",
       "      <td id=\"T_68f57_row7_col0\" class=\"data row7 col0\" >8.000000</td>\n",
       "      <td id=\"T_68f57_row7_col1\" class=\"data row7 col1\" >0.354493</td>\n",
       "      <td id=\"T_68f57_row7_col2\" class=\"data row7 col2\" >1.037528</td>\n",
       "      <td id=\"T_68f57_row7_col3\" class=\"data row7 col3\" >-0.385684</td>\n",
       "      <td id=\"T_68f57_row7_col4\" class=\"data row7 col4\" >0.519818</td>\n",
       "    </tr>\n",
       "    <tr>\n",
       "      <th id=\"T_68f57_level0_row8\" class=\"row_heading level0 row8\" >8</th>\n",
       "      <td id=\"T_68f57_row8_col0\" class=\"data row8 col0\" >9.000000</td>\n",
       "      <td id=\"T_68f57_row8_col1\" class=\"data row8 col1\" >1.686583</td>\n",
       "      <td id=\"T_68f57_row8_col2\" class=\"data row8 col2\" >-1.325963</td>\n",
       "      <td id=\"T_68f57_row8_col3\" class=\"data row8 col3\" >1.428984</td>\n",
       "      <td id=\"T_68f57_row8_col4\" class=\"data row8 col4\" >-2.089354</td>\n",
       "    </tr>\n",
       "    <tr>\n",
       "      <th id=\"T_68f57_level0_row9\" class=\"row_heading level0 row9\" >9</th>\n",
       "      <td id=\"T_68f57_row9_col0\" class=\"data row9 col0\" >10.000000</td>\n",
       "      <td id=\"T_68f57_row9_col1\" class=\"data row9 col1\" >-0.129820</td>\n",
       "      <td id=\"T_68f57_row9_col2\" class=\"data row9 col2\" >0.631523</td>\n",
       "      <td id=\"T_68f57_row9_col3\" class=\"data row9 col3\" >-0.586538</td>\n",
       "      <td id=\"T_68f57_row9_col4\" class=\"data row9 col4\" >0.290720</td>\n",
       "    </tr>\n",
       "  </tbody>\n",
       "</table>\n"
      ],
      "text/plain": [
       "<pandas.io.formats.style.Styler at 0x7fa6b83dbfa0>"
      ]
     },
     "execution_count": 1,
     "metadata": {},
     "output_type": "execute_result"
    }
   ],
   "source": [
    "import numpy as np\n",
    "import pandas as pd\n",
    "\n",
    "np.random.seed(24)\n",
    "df = pd.DataFrame({'A': np.linspace(1, 10, 10)})\n",
    "df = pd.concat([df, pd.DataFrame(np.random.randn(10, 4), columns=list('BCDE'))],\n",
    "               axis=1)\n",
    "df.iloc[3, 3] = np.nan\n",
    "df.iloc[0, 2] = np.nan\n",
    "\n",
    "def color_negative_red(val):\n",
    "    \"\"\"\n",
    "    Takes a scalar and returns a string with\n",
    "    the css property `'color: red'` for negative\n",
    "    strings, black otherwise.\n",
    "    \"\"\"\n",
    "    color = 'red' if val < 0 else 'black'\n",
    "    return 'color: %s' % color\n",
    "\n",
    "def highlight_max(s):\n",
    "    '''\n",
    "    highlight the maximum in a Series yellow.\n",
    "    '''\n",
    "    is_max = s == s.max()\n",
    "    return ['background-color: yellow' if v else '' for v in is_max]\n",
    "\n",
    "df.style.\\\n",
    "    applymap(color_negative_red).\\\n",
    "    apply(highlight_max).\\\n",
    "    set_table_attributes('style=\"font-size: 10px\"')"
   ]
  },
  {
   "cell_type": "markdown",
   "id": "8eee3211",
   "metadata": {},
   "source": [
    "See the [Pandas Styling docs](https://pandas.pydata.org/pandas-docs/stable/user_guide/style.html) for more information about styling DataFrames, and check out the documentation of your library of choice to see if they support similar features.\n",
    "\n",
    "(content:code-outputs:scrolling)=\n",
    "## Scrolling cell outputs\n",
    "\n",
    "The traditional Jupyter Notebook interface allows you to toggle **output scrolling**\n",
    "for your cells. This allows you to visualize part of a long output without it taking up\n",
    "the entire page.\n",
    "\n",
    "You can trigger this behavior in Jupyter Book by adding the following\n",
    "tag to a cell's metadata:\n",
    "\n",
    "```json\n",
    "{\n",
    "    \"tags\": [\n",
    "        \"output_scroll\",\n",
    "    ]\n",
    "}\n",
    "```\n",
    "\n",
    "For example, the following cell has a long output, but will be scrollable in the book:"
   ]
  },
  {
   "cell_type": "code",
   "execution_count": 2,
   "id": "828857b4",
   "metadata": {
    "tags": [
     "output_scroll"
    ]
   },
   "outputs": [
    {
     "name": "stdout",
     "output_type": "stream",
     "text": [
      "this is output line 0\n",
      "this is output line 1\n",
      "this is output line 2\n",
      "this is output line 3\n",
      "this is output line 4\n",
      "this is output line 5\n",
      "this is output line 6\n",
      "this is output line 7\n",
      "this is output line 8\n",
      "this is output line 9\n",
      "this is output line 10\n",
      "this is output line 11\n",
      "this is output line 12\n",
      "this is output line 13\n",
      "this is output line 14\n",
      "this is output line 15\n",
      "this is output line 16\n",
      "this is output line 17\n",
      "this is output line 18\n",
      "this is output line 19\n",
      "this is output line 20\n",
      "this is output line 21\n",
      "this is output line 22\n",
      "this is output line 23\n",
      "this is output line 24\n",
      "this is output line 25\n",
      "this is output line 26\n",
      "this is output line 27\n",
      "this is output line 28\n",
      "this is output line 29\n",
      "this is output line 30\n",
      "this is output line 31\n",
      "this is output line 32\n",
      "this is output line 33\n",
      "this is output line 34\n",
      "this is output line 35\n",
      "this is output line 36\n",
      "this is output line 37\n",
      "this is output line 38\n",
      "this is output line 39\n"
     ]
    }
   ],
   "source": [
    "for ii in range(40):\n",
    "    print(f\"this is output line {ii}\")"
   ]
  },
  {
   "cell_type": "markdown",
   "id": "d48181cf",
   "metadata": {},
   "source": [
    "(content:code-outputs:images)=\n",
    "## Images\n",
    "\n",
    "For any image types output by the code, we can apply formatting *via* cell metadata.\n",
    "Then for the image we can apply all the variables of the standard [image directive](https://docutils.sourceforge.io/docs/ref/rst/directives.html#image):\n",
    "\n",
    "```{margin}\n",
    "Units of length are: 'em', 'ex', 'px', 'in', 'cm', 'mm', 'pt', 'pc'\n",
    "```\n",
    "\n",
    "- **width**: length or percentage (%) of the current line width\n",
    "- **height**: length\n",
    "- **scale**: integer percentage (the \"%\" symbol is optional)\n",
    "- **align**: \"top\", \"middle\", \"bottom\", \"left\", \"center\", or \"right\"\n",
    "- **classes**: space separated strings\n",
    "- **alt**: string\n",
    "\n",
    "We can also set a caption (which is rendered as [CommonMark](https://commonmark.org/)) and name by which to reference the figure. The code\n",
    "\n",
    "````md\n",
    "```{code-cell} ipython3\n",
    "---\n",
    "render:\n",
    "  image:\n",
    "    width: 200px\n",
    "    alt: fun-fish\n",
    "    classes: shadow bg-primary\n",
    "  figure:\n",
    "    caption: |\n",
    "      Hey everyone its **party** time!\n",
    "    name: fun-fish\n",
    "---\n",
    "from IPython.display import Image\n",
    "Image(\"../images/fun-fish.png\")\n",
    "```\n",
    "````\n",
    "\n",
    "produces the following code cell and figure:"
   ]
  },
  {
   "cell_type": "code",
   "execution_count": 3,
   "id": "0c369d98",
   "metadata": {
    "render": {
     "figure": {
      "caption": "Hey everyone its **party** time!\n",
      "name": "fun-fish"
     },
     "image": {
      "alt": "fun-fish",
      "classes": "shadow bg-primary",
      "width": "300px"
     }
    }
   },
   "outputs": [
    {
     "ename": "FileNotFoundError",
     "evalue": "No such file or directory: '../images/fun-fish.png'",
     "output_type": "error",
     "traceback": [
      "\u001b[0;31m---------------------------------------------------------------------------\u001b[0m",
      "\u001b[0;31mTypeError\u001b[0m                                 Traceback (most recent call last)",
      "\u001b[0;32m~/opt/anaconda3/lib/python3.8/site-packages/IPython/core/display.py\u001b[0m in \u001b[0;36m_data_and_metadata\u001b[0;34m(self, always_both)\u001b[0m\n\u001b[1;32m   1299\u001b[0m         \u001b[0;32mtry\u001b[0m\u001b[0;34m:\u001b[0m\u001b[0;34m\u001b[0m\u001b[0;34m\u001b[0m\u001b[0m\n\u001b[0;32m-> 1300\u001b[0;31m             \u001b[0mb64_data\u001b[0m \u001b[0;34m=\u001b[0m \u001b[0mb2a_base64\u001b[0m\u001b[0;34m(\u001b[0m\u001b[0mself\u001b[0m\u001b[0;34m.\u001b[0m\u001b[0mdata\u001b[0m\u001b[0;34m)\u001b[0m\u001b[0;34m.\u001b[0m\u001b[0mdecode\u001b[0m\u001b[0;34m(\u001b[0m\u001b[0;34m'ascii'\u001b[0m\u001b[0;34m)\u001b[0m\u001b[0;34m\u001b[0m\u001b[0;34m\u001b[0m\u001b[0m\n\u001b[0m\u001b[1;32m   1301\u001b[0m         \u001b[0;32mexcept\u001b[0m \u001b[0mTypeError\u001b[0m\u001b[0;34m:\u001b[0m\u001b[0;34m\u001b[0m\u001b[0;34m\u001b[0m\u001b[0m\n",
      "\u001b[0;31mTypeError\u001b[0m: a bytes-like object is required, not 'str'",
      "\nDuring handling of the above exception, another exception occurred:\n",
      "\u001b[0;31mFileNotFoundError\u001b[0m                         Traceback (most recent call last)",
      "\u001b[0;32m~/opt/anaconda3/lib/python3.8/site-packages/IPython/core/formatters.py\u001b[0m in \u001b[0;36m__call__\u001b[0;34m(self, obj, include, exclude)\u001b[0m\n\u001b[1;32m    968\u001b[0m \u001b[0;34m\u001b[0m\u001b[0m\n\u001b[1;32m    969\u001b[0m             \u001b[0;32mif\u001b[0m \u001b[0mmethod\u001b[0m \u001b[0;32mis\u001b[0m \u001b[0;32mnot\u001b[0m \u001b[0;32mNone\u001b[0m\u001b[0;34m:\u001b[0m\u001b[0;34m\u001b[0m\u001b[0;34m\u001b[0m\u001b[0m\n\u001b[0;32m--> 970\u001b[0;31m                 \u001b[0;32mreturn\u001b[0m \u001b[0mmethod\u001b[0m\u001b[0;34m(\u001b[0m\u001b[0minclude\u001b[0m\u001b[0;34m=\u001b[0m\u001b[0minclude\u001b[0m\u001b[0;34m,\u001b[0m \u001b[0mexclude\u001b[0m\u001b[0;34m=\u001b[0m\u001b[0mexclude\u001b[0m\u001b[0;34m)\u001b[0m\u001b[0;34m\u001b[0m\u001b[0;34m\u001b[0m\u001b[0m\n\u001b[0m\u001b[1;32m    971\u001b[0m             \u001b[0;32mreturn\u001b[0m \u001b[0;32mNone\u001b[0m\u001b[0;34m\u001b[0m\u001b[0;34m\u001b[0m\u001b[0m\n\u001b[1;32m    972\u001b[0m         \u001b[0;32melse\u001b[0m\u001b[0;34m:\u001b[0m\u001b[0;34m\u001b[0m\u001b[0;34m\u001b[0m\u001b[0m\n",
      "\u001b[0;32m~/opt/anaconda3/lib/python3.8/site-packages/IPython/core/display.py\u001b[0m in \u001b[0;36m_repr_mimebundle_\u001b[0;34m(self, include, exclude)\u001b[0m\n\u001b[1;32m   1288\u001b[0m         \u001b[0;32mif\u001b[0m \u001b[0mself\u001b[0m\u001b[0;34m.\u001b[0m\u001b[0membed\u001b[0m\u001b[0;34m:\u001b[0m\u001b[0;34m\u001b[0m\u001b[0;34m\u001b[0m\u001b[0m\n\u001b[1;32m   1289\u001b[0m             \u001b[0mmimetype\u001b[0m \u001b[0;34m=\u001b[0m \u001b[0mself\u001b[0m\u001b[0;34m.\u001b[0m\u001b[0m_mimetype\u001b[0m\u001b[0;34m\u001b[0m\u001b[0;34m\u001b[0m\u001b[0m\n\u001b[0;32m-> 1290\u001b[0;31m             \u001b[0mdata\u001b[0m\u001b[0;34m,\u001b[0m \u001b[0mmetadata\u001b[0m \u001b[0;34m=\u001b[0m \u001b[0mself\u001b[0m\u001b[0;34m.\u001b[0m\u001b[0m_data_and_metadata\u001b[0m\u001b[0;34m(\u001b[0m\u001b[0malways_both\u001b[0m\u001b[0;34m=\u001b[0m\u001b[0;32mTrue\u001b[0m\u001b[0;34m)\u001b[0m\u001b[0;34m\u001b[0m\u001b[0;34m\u001b[0m\u001b[0m\n\u001b[0m\u001b[1;32m   1291\u001b[0m             \u001b[0;32mif\u001b[0m \u001b[0mmetadata\u001b[0m\u001b[0;34m:\u001b[0m\u001b[0;34m\u001b[0m\u001b[0;34m\u001b[0m\u001b[0m\n\u001b[1;32m   1292\u001b[0m                 \u001b[0mmetadata\u001b[0m \u001b[0;34m=\u001b[0m \u001b[0;34m{\u001b[0m\u001b[0mmimetype\u001b[0m\u001b[0;34m:\u001b[0m \u001b[0mmetadata\u001b[0m\u001b[0;34m}\u001b[0m\u001b[0;34m\u001b[0m\u001b[0;34m\u001b[0m\u001b[0m\n",
      "\u001b[0;32m~/opt/anaconda3/lib/python3.8/site-packages/IPython/core/display.py\u001b[0m in \u001b[0;36m_data_and_metadata\u001b[0;34m(self, always_both)\u001b[0m\n\u001b[1;32m   1300\u001b[0m             \u001b[0mb64_data\u001b[0m \u001b[0;34m=\u001b[0m \u001b[0mb2a_base64\u001b[0m\u001b[0;34m(\u001b[0m\u001b[0mself\u001b[0m\u001b[0;34m.\u001b[0m\u001b[0mdata\u001b[0m\u001b[0;34m)\u001b[0m\u001b[0;34m.\u001b[0m\u001b[0mdecode\u001b[0m\u001b[0;34m(\u001b[0m\u001b[0;34m'ascii'\u001b[0m\u001b[0;34m)\u001b[0m\u001b[0;34m\u001b[0m\u001b[0;34m\u001b[0m\u001b[0m\n\u001b[1;32m   1301\u001b[0m         \u001b[0;32mexcept\u001b[0m \u001b[0mTypeError\u001b[0m\u001b[0;34m:\u001b[0m\u001b[0;34m\u001b[0m\u001b[0;34m\u001b[0m\u001b[0m\n\u001b[0;32m-> 1302\u001b[0;31m             raise FileNotFoundError(\n\u001b[0m\u001b[1;32m   1303\u001b[0m                 \"No such file or directory: '%s'\" % (self.data))\n\u001b[1;32m   1304\u001b[0m         \u001b[0mmd\u001b[0m \u001b[0;34m=\u001b[0m \u001b[0;34m{\u001b[0m\u001b[0;34m}\u001b[0m\u001b[0;34m\u001b[0m\u001b[0;34m\u001b[0m\u001b[0m\n",
      "\u001b[0;31mFileNotFoundError\u001b[0m: No such file or directory: '../images/fun-fish.png'"
     ]
    },
    {
     "ename": "FileNotFoundError",
     "evalue": "No such file or directory: '../images/fun-fish.png'",
     "output_type": "error",
     "traceback": [
      "\u001b[0;31m---------------------------------------------------------------------------\u001b[0m",
      "\u001b[0;31mTypeError\u001b[0m                                 Traceback (most recent call last)",
      "\u001b[0;32m~/opt/anaconda3/lib/python3.8/site-packages/IPython/core/display.py\u001b[0m in \u001b[0;36m_data_and_metadata\u001b[0;34m(self, always_both)\u001b[0m\n\u001b[1;32m   1299\u001b[0m         \u001b[0;32mtry\u001b[0m\u001b[0;34m:\u001b[0m\u001b[0;34m\u001b[0m\u001b[0;34m\u001b[0m\u001b[0m\n\u001b[0;32m-> 1300\u001b[0;31m             \u001b[0mb64_data\u001b[0m \u001b[0;34m=\u001b[0m \u001b[0mb2a_base64\u001b[0m\u001b[0;34m(\u001b[0m\u001b[0mself\u001b[0m\u001b[0;34m.\u001b[0m\u001b[0mdata\u001b[0m\u001b[0;34m)\u001b[0m\u001b[0;34m.\u001b[0m\u001b[0mdecode\u001b[0m\u001b[0;34m(\u001b[0m\u001b[0;34m'ascii'\u001b[0m\u001b[0;34m)\u001b[0m\u001b[0;34m\u001b[0m\u001b[0;34m\u001b[0m\u001b[0m\n\u001b[0m\u001b[1;32m   1301\u001b[0m         \u001b[0;32mexcept\u001b[0m \u001b[0mTypeError\u001b[0m\u001b[0;34m:\u001b[0m\u001b[0;34m\u001b[0m\u001b[0;34m\u001b[0m\u001b[0m\n",
      "\u001b[0;31mTypeError\u001b[0m: a bytes-like object is required, not 'str'",
      "\nDuring handling of the above exception, another exception occurred:\n",
      "\u001b[0;31mFileNotFoundError\u001b[0m                         Traceback (most recent call last)",
      "\u001b[0;32m~/opt/anaconda3/lib/python3.8/site-packages/IPython/core/formatters.py\u001b[0m in \u001b[0;36m__call__\u001b[0;34m(self, obj)\u001b[0m\n\u001b[1;32m    343\u001b[0m             \u001b[0mmethod\u001b[0m \u001b[0;34m=\u001b[0m \u001b[0mget_real_method\u001b[0m\u001b[0;34m(\u001b[0m\u001b[0mobj\u001b[0m\u001b[0;34m,\u001b[0m \u001b[0mself\u001b[0m\u001b[0;34m.\u001b[0m\u001b[0mprint_method\u001b[0m\u001b[0;34m)\u001b[0m\u001b[0;34m\u001b[0m\u001b[0;34m\u001b[0m\u001b[0m\n\u001b[1;32m    344\u001b[0m             \u001b[0;32mif\u001b[0m \u001b[0mmethod\u001b[0m \u001b[0;32mis\u001b[0m \u001b[0;32mnot\u001b[0m \u001b[0;32mNone\u001b[0m\u001b[0;34m:\u001b[0m\u001b[0;34m\u001b[0m\u001b[0;34m\u001b[0m\u001b[0m\n\u001b[0;32m--> 345\u001b[0;31m                 \u001b[0;32mreturn\u001b[0m \u001b[0mmethod\u001b[0m\u001b[0;34m(\u001b[0m\u001b[0;34m)\u001b[0m\u001b[0;34m\u001b[0m\u001b[0;34m\u001b[0m\u001b[0m\n\u001b[0m\u001b[1;32m    346\u001b[0m             \u001b[0;32mreturn\u001b[0m \u001b[0;32mNone\u001b[0m\u001b[0;34m\u001b[0m\u001b[0;34m\u001b[0m\u001b[0m\n\u001b[1;32m    347\u001b[0m         \u001b[0;32melse\u001b[0m\u001b[0;34m:\u001b[0m\u001b[0;34m\u001b[0m\u001b[0;34m\u001b[0m\u001b[0m\n",
      "\u001b[0;32m~/opt/anaconda3/lib/python3.8/site-packages/IPython/core/display.py\u001b[0m in \u001b[0;36m_repr_png_\u001b[0;34m(self)\u001b[0m\n\u001b[1;32m   1318\u001b[0m     \u001b[0;32mdef\u001b[0m \u001b[0m_repr_png_\u001b[0m\u001b[0;34m(\u001b[0m\u001b[0mself\u001b[0m\u001b[0;34m)\u001b[0m\u001b[0;34m:\u001b[0m\u001b[0;34m\u001b[0m\u001b[0;34m\u001b[0m\u001b[0m\n\u001b[1;32m   1319\u001b[0m         \u001b[0;32mif\u001b[0m \u001b[0mself\u001b[0m\u001b[0;34m.\u001b[0m\u001b[0membed\u001b[0m \u001b[0;32mand\u001b[0m \u001b[0mself\u001b[0m\u001b[0;34m.\u001b[0m\u001b[0mformat\u001b[0m \u001b[0;34m==\u001b[0m \u001b[0mself\u001b[0m\u001b[0;34m.\u001b[0m\u001b[0m_FMT_PNG\u001b[0m\u001b[0;34m:\u001b[0m\u001b[0;34m\u001b[0m\u001b[0;34m\u001b[0m\u001b[0m\n\u001b[0;32m-> 1320\u001b[0;31m             \u001b[0;32mreturn\u001b[0m \u001b[0mself\u001b[0m\u001b[0;34m.\u001b[0m\u001b[0m_data_and_metadata\u001b[0m\u001b[0;34m(\u001b[0m\u001b[0;34m)\u001b[0m\u001b[0;34m\u001b[0m\u001b[0;34m\u001b[0m\u001b[0m\n\u001b[0m\u001b[1;32m   1321\u001b[0m \u001b[0;34m\u001b[0m\u001b[0m\n\u001b[1;32m   1322\u001b[0m     \u001b[0;32mdef\u001b[0m \u001b[0m_repr_jpeg_\u001b[0m\u001b[0;34m(\u001b[0m\u001b[0mself\u001b[0m\u001b[0;34m)\u001b[0m\u001b[0;34m:\u001b[0m\u001b[0;34m\u001b[0m\u001b[0;34m\u001b[0m\u001b[0m\n",
      "\u001b[0;32m~/opt/anaconda3/lib/python3.8/site-packages/IPython/core/display.py\u001b[0m in \u001b[0;36m_data_and_metadata\u001b[0;34m(self, always_both)\u001b[0m\n\u001b[1;32m   1300\u001b[0m             \u001b[0mb64_data\u001b[0m \u001b[0;34m=\u001b[0m \u001b[0mb2a_base64\u001b[0m\u001b[0;34m(\u001b[0m\u001b[0mself\u001b[0m\u001b[0;34m.\u001b[0m\u001b[0mdata\u001b[0m\u001b[0;34m)\u001b[0m\u001b[0;34m.\u001b[0m\u001b[0mdecode\u001b[0m\u001b[0;34m(\u001b[0m\u001b[0;34m'ascii'\u001b[0m\u001b[0;34m)\u001b[0m\u001b[0;34m\u001b[0m\u001b[0;34m\u001b[0m\u001b[0m\n\u001b[1;32m   1301\u001b[0m         \u001b[0;32mexcept\u001b[0m \u001b[0mTypeError\u001b[0m\u001b[0;34m:\u001b[0m\u001b[0;34m\u001b[0m\u001b[0;34m\u001b[0m\u001b[0m\n\u001b[0;32m-> 1302\u001b[0;31m             raise FileNotFoundError(\n\u001b[0m\u001b[1;32m   1303\u001b[0m                 \"No such file or directory: '%s'\" % (self.data))\n\u001b[1;32m   1304\u001b[0m         \u001b[0mmd\u001b[0m \u001b[0;34m=\u001b[0m \u001b[0;34m{\u001b[0m\u001b[0;34m}\u001b[0m\u001b[0;34m\u001b[0m\u001b[0;34m\u001b[0m\u001b[0m\n",
      "\u001b[0;31mFileNotFoundError\u001b[0m: No such file or directory: '../images/fun-fish.png'"
     ]
    },
    {
     "data": {
      "text/plain": [
       "<IPython.core.display.Image object>"
      ]
     },
     "execution_count": 3,
     "metadata": {},
     "output_type": "execute_result"
    }
   ],
   "source": [
    "from IPython.display import Image\n",
    "Image(\"../images/fun-fish.png\")"
   ]
  },
  {
   "cell_type": "markdown",
   "id": "2496af5e",
   "metadata": {},
   "source": [
    "Now we can link to the image from anywhere in our documentation: [swim to the fish](fun-fish)\n",
    "\n",
    ":::{seealso}\n",
    "[](jupyter-cell-tags)\n",
    ":::\n",
    "\n",
    "(content:code-outputs:markdown)=\n",
    "## Markdown\n",
    "\n",
    "Markdown output is parsed by MyST-Parser, currently with the parsing set to strictly [CommonMark](https://commonmark.org/).\n",
    "\n",
    "The parsed Markdown is then integrated into the wider context of the document. This means it is possible, for example, to include internal references:"
   ]
  },
  {
   "cell_type": "code",
   "execution_count": 4,
   "id": "4617ddbc",
   "metadata": {},
   "outputs": [
    {
     "data": {
      "text/markdown": [
       "**_some_ markdown** and an [internal reference](use/format/markdown)!"
      ],
      "text/plain": [
       "<IPython.core.display.Markdown object>"
      ]
     },
     "metadata": {},
     "output_type": "display_data"
    }
   ],
   "source": [
    "from IPython.display import display, Markdown\n",
    "display(Markdown('**_some_ markdown** and an [internal reference](use/format/markdown)!'))"
   ]
  },
  {
   "cell_type": "markdown",
   "id": "ab8787b0",
   "metadata": {},
   "source": [
    "and even internal images can be rendered, as the code below exemplifies:"
   ]
  },
  {
   "cell_type": "code",
   "execution_count": 5,
   "id": "bd3ec7d8",
   "metadata": {},
   "outputs": [
    {
     "data": {
      "text/markdown": [
       "![figure](../images/logo-wide.svg)"
      ],
      "text/plain": [
       "<IPython.core.display.Markdown object>"
      ]
     },
     "metadata": {},
     "output_type": "display_data"
    }
   ],
   "source": [
    "display(Markdown('![figure](../images/logo-wide.svg)'))"
   ]
  },
  {
   "cell_type": "markdown",
   "id": "cb7cbde4",
   "metadata": {},
   "source": [
    "(content:code-outputs:ansi)=\n",
    "## ANSI outputs\n",
    "\n",
    "By default, the standard output/error streams and text/plain MIME outputs may contain ANSI escape sequences to change the text and background colors."
   ]
  },
  {
   "cell_type": "code",
   "execution_count": 6,
   "id": "4acec1a6",
   "metadata": {},
   "outputs": [
    {
     "name": "stdout",
     "output_type": "stream",
     "text": [
      "AB\u001b[43mCD\u001b[35mEF\u001b[1mGH\u001b[4mIJ\u001b[7mKL\u001b[49mMN\u001b[39mOP\u001b[22mQR\u001b[24mST\u001b[27mUV\n"
     ]
    },
    {
     "name": "stderr",
     "output_type": "stream",
     "text": [
      "BEWARE: \u001b[1;33;41mugly colors\u001b[m!\n"
     ]
    }
   ],
   "source": [
    "import sys\n",
    "print(\"BEWARE: \\x1b[1;33;41mugly colors\\x1b[m!\", file=sys.stderr)\n",
    "print(\"AB\\x1b[43mCD\\x1b[35mEF\\x1b[1mGH\\x1b[4mIJ\\x1b[7m\"\n",
    "      \"KL\\x1b[49mMN\\x1b[39mOP\\x1b[22mQR\\x1b[24mST\\x1b[27mUV\")"
   ]
  },
  {
   "cell_type": "markdown",
   "id": "b607f791",
   "metadata": {},
   "source": [
    "This uses the built-in {py:class}`~myst-nb:myst_nb.ansi_lexer.AnsiColorLexer` [pygments lexer](https://pygments.org/).\n",
    "You can change the lexer used in the `_config.yml`, for example to turn off lexing:\n",
    "\n",
    "```yaml\n",
    "sphinx:\n",
    "  config:\n",
    "    nb_render_text_lexer: \"none\"\n",
    "```\n",
    "\n",
    "The following code shows the 8 basic ANSI colors it is based on.\n",
    "Each of the 8 colors has an “intense” variation, which is used for bold text."
   ]
  },
  {
   "cell_type": "code",
   "execution_count": 7,
   "id": "2799f840",
   "metadata": {},
   "outputs": [
    {
     "name": "stdout",
     "output_type": "stream",
     "text": [
      "            40   41   42   43   44   45   46   47  \n",
      "   30 \u001b[30m XYZ \u001b[m\u001b[30;40m XYZ \u001b[m\u001b[30;41m XYZ \u001b[m\u001b[30;42m XYZ \u001b[m\u001b[30;43m XYZ \u001b[m\u001b[30;44m XYZ \u001b[m\u001b[30;45m XYZ \u001b[m\u001b[30;46m XYZ \u001b[m\u001b[30;47m XYZ \u001b[m\n",
      " 1;30 \u001b[1;30m XYZ \u001b[m\u001b[1;30;40m XYZ \u001b[m\u001b[1;30;41m XYZ \u001b[m\u001b[1;30;42m XYZ \u001b[m\u001b[1;30;43m XYZ \u001b[m\u001b[1;30;44m XYZ \u001b[m\u001b[1;30;45m XYZ \u001b[m\u001b[1;30;46m XYZ \u001b[m\u001b[1;30;47m XYZ \u001b[m\n",
      "   31 \u001b[31m XYZ \u001b[m\u001b[31;40m XYZ \u001b[m\u001b[31;41m XYZ \u001b[m\u001b[31;42m XYZ \u001b[m\u001b[31;43m XYZ \u001b[m\u001b[31;44m XYZ \u001b[m\u001b[31;45m XYZ \u001b[m\u001b[31;46m XYZ \u001b[m\u001b[31;47m XYZ \u001b[m\n",
      " 1;31 \u001b[1;31m XYZ \u001b[m\u001b[1;31;40m XYZ \u001b[m\u001b[1;31;41m XYZ \u001b[m\u001b[1;31;42m XYZ \u001b[m\u001b[1;31;43m XYZ \u001b[m\u001b[1;31;44m XYZ \u001b[m\u001b[1;31;45m XYZ \u001b[m\u001b[1;31;46m XYZ \u001b[m\u001b[1;31;47m XYZ \u001b[m\n",
      "   32 \u001b[32m XYZ \u001b[m\u001b[32;40m XYZ \u001b[m\u001b[32;41m XYZ \u001b[m\u001b[32;42m XYZ \u001b[m\u001b[32;43m XYZ \u001b[m\u001b[32;44m XYZ \u001b[m\u001b[32;45m XYZ \u001b[m\u001b[32;46m XYZ \u001b[m\u001b[32;47m XYZ \u001b[m\n",
      " 1;32 \u001b[1;32m XYZ \u001b[m\u001b[1;32;40m XYZ \u001b[m\u001b[1;32;41m XYZ \u001b[m\u001b[1;32;42m XYZ \u001b[m\u001b[1;32;43m XYZ \u001b[m\u001b[1;32;44m XYZ \u001b[m\u001b[1;32;45m XYZ \u001b[m\u001b[1;32;46m XYZ \u001b[m\u001b[1;32;47m XYZ \u001b[m\n",
      "   33 \u001b[33m XYZ \u001b[m\u001b[33;40m XYZ \u001b[m\u001b[33;41m XYZ \u001b[m\u001b[33;42m XYZ \u001b[m\u001b[33;43m XYZ \u001b[m\u001b[33;44m XYZ \u001b[m\u001b[33;45m XYZ \u001b[m\u001b[33;46m XYZ \u001b[m\u001b[33;47m XYZ \u001b[m\n",
      " 1;33 \u001b[1;33m XYZ \u001b[m\u001b[1;33;40m XYZ \u001b[m\u001b[1;33;41m XYZ \u001b[m\u001b[1;33;42m XYZ \u001b[m\u001b[1;33;43m XYZ \u001b[m\u001b[1;33;44m XYZ \u001b[m\u001b[1;33;45m XYZ \u001b[m\u001b[1;33;46m XYZ \u001b[m\u001b[1;33;47m XYZ \u001b[m\n",
      "   34 \u001b[34m XYZ \u001b[m\u001b[34;40m XYZ \u001b[m\u001b[34;41m XYZ \u001b[m\u001b[34;42m XYZ \u001b[m\u001b[34;43m XYZ \u001b[m\u001b[34;44m XYZ \u001b[m\u001b[34;45m XYZ \u001b[m\u001b[34;46m XYZ \u001b[m\u001b[34;47m XYZ \u001b[m\n",
      " 1;34 \u001b[1;34m XYZ \u001b[m\u001b[1;34;40m XYZ \u001b[m\u001b[1;34;41m XYZ \u001b[m\u001b[1;34;42m XYZ \u001b[m\u001b[1;34;43m XYZ \u001b[m\u001b[1;34;44m XYZ \u001b[m\u001b[1;34;45m XYZ \u001b[m\u001b[1;34;46m XYZ \u001b[m\u001b[1;34;47m XYZ \u001b[m\n",
      "   35 \u001b[35m XYZ \u001b[m\u001b[35;40m XYZ \u001b[m\u001b[35;41m XYZ \u001b[m\u001b[35;42m XYZ \u001b[m\u001b[35;43m XYZ \u001b[m\u001b[35;44m XYZ \u001b[m\u001b[35;45m XYZ \u001b[m\u001b[35;46m XYZ \u001b[m\u001b[35;47m XYZ \u001b[m\n",
      " 1;35 \u001b[1;35m XYZ \u001b[m\u001b[1;35;40m XYZ \u001b[m\u001b[1;35;41m XYZ \u001b[m\u001b[1;35;42m XYZ \u001b[m\u001b[1;35;43m XYZ \u001b[m\u001b[1;35;44m XYZ \u001b[m\u001b[1;35;45m XYZ \u001b[m\u001b[1;35;46m XYZ \u001b[m\u001b[1;35;47m XYZ \u001b[m\n",
      "   36 \u001b[36m XYZ \u001b[m\u001b[36;40m XYZ \u001b[m\u001b[36;41m XYZ \u001b[m\u001b[36;42m XYZ \u001b[m\u001b[36;43m XYZ \u001b[m\u001b[36;44m XYZ \u001b[m\u001b[36;45m XYZ \u001b[m\u001b[36;46m XYZ \u001b[m\u001b[36;47m XYZ \u001b[m\n",
      " 1;36 \u001b[1;36m XYZ \u001b[m\u001b[1;36;40m XYZ \u001b[m\u001b[1;36;41m XYZ \u001b[m\u001b[1;36;42m XYZ \u001b[m\u001b[1;36;43m XYZ \u001b[m\u001b[1;36;44m XYZ \u001b[m\u001b[1;36;45m XYZ \u001b[m\u001b[1;36;46m XYZ \u001b[m\u001b[1;36;47m XYZ \u001b[m\n",
      "   37 \u001b[37m XYZ \u001b[m\u001b[37;40m XYZ \u001b[m\u001b[37;41m XYZ \u001b[m\u001b[37;42m XYZ \u001b[m\u001b[37;43m XYZ \u001b[m\u001b[37;44m XYZ \u001b[m\u001b[37;45m XYZ \u001b[m\u001b[37;46m XYZ \u001b[m\u001b[37;47m XYZ \u001b[m\n",
      " 1;37 \u001b[1;37m XYZ \u001b[m\u001b[1;37;40m XYZ \u001b[m\u001b[1;37;41m XYZ \u001b[m\u001b[1;37;42m XYZ \u001b[m\u001b[1;37;43m XYZ \u001b[m\u001b[1;37;44m XYZ \u001b[m\u001b[1;37;45m XYZ \u001b[m\u001b[1;37;46m XYZ \u001b[m\u001b[1;37;47m XYZ \u001b[m\n"
     ]
    }
   ],
   "source": [
    "text = \" XYZ \"\n",
    "formatstring = \"\\x1b[{}m\" + text + \"\\x1b[m\"\n",
    "\n",
    "print(\n",
    "    \" \" * 6\n",
    "    + \" \" * len(text)\n",
    "    + \"\".join(\"{:^{}}\".format(bg, len(text)) for bg in range(40, 48))\n",
    ")\n",
    "for fg in range(30, 38):\n",
    "    for bold in False, True:\n",
    "        fg_code = (\"1;\" if bold else \"\") + str(fg)\n",
    "        print(\n",
    "            \" {:>4} \".format(fg_code)\n",
    "            + formatstring.format(fg_code)\n",
    "            + \"\".join(\n",
    "                formatstring.format(fg_code + \";\" + str(bg)) for bg in range(40, 48)\n",
    "            )\n",
    "        )"
   ]
  },
  {
   "cell_type": "markdown",
   "id": "4919f2c7",
   "metadata": {},
   "source": [
    ":::{note}\n",
    "ANSI also supports a set of 256 indexed colors.\n",
    "This is currently not supported, but we hope to introduce it at a later date\n",
    "(raise an issue on the repository if you require it!).\n",
    ":::\n",
    "\n",
    "(content:code-outputs:priority)=\n",
    "## Render priority\n",
    "\n",
    "When Jupyter executes a code cell it can produce multiple outputs, and each of these outputs can contain multiple [MIME media types](https://developer.mozilla.org/en-US/docs/Web/HTTP/Basics_of_HTTP/MIME_types) to use with different output formats (like HTML or LaTeX).\n",
    "\n",
    "MyST-NB stores a default priority dictionary for most of the common [output builders](https://www.sphinx-doc.org/en/master/usage/builders/index.html), which you can also update in your `_config.yml`.\n",
    "For example, this is the default priority list for HTML:\n",
    "\n",
    "```yaml\n",
    "sphinx:\n",
    "  config:\n",
    "    nb_render_priority:\n",
    "      html:\n",
    "      - \"application/vnd.jupyter.widget-view+json\"\n",
    "      - \"application/javascript\"\n",
    "      - \"text/html\"\n",
    "      - \"image/svg+xml\"\n",
    "      - \"image/png\"\n",
    "      - \"image/jpeg\"\n",
    "      - \"text/markdown\"\n",
    "      - \"text/latex\"\n",
    "      - \"text/plain\"\n",
    "```"
   ]
  }
 ],
 "metadata": {
  "jupytext": {
   "text_representation": {
    "extension": ".md",
    "format_name": "myst"
   }
  },
  "kernelspec": {
   "display_name": "Python 3",
   "language": "python",
   "name": "python3"
  },
  "language_info": {
   "codemirror_mode": {
    "name": "ipython",
    "version": 3
   },
   "file_extension": ".py",
   "mimetype": "text/x-python",
   "name": "python",
   "nbconvert_exporter": "python",
   "pygments_lexer": "ipython3",
   "version": "3.8.8"
  },
  "source_map": [
   10,
   32,
   65,
   89,
   94,
   135,
   149,
   164,
   167,
   171,
   173,
   180,
   185,
   199,
   218
  ]
 },
 "nbformat": 4,
 "nbformat_minor": 5
}